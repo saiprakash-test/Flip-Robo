{
 "cells": [
  {
   "cell_type": "markdown",
   "metadata": {},
   "source": [
    "1.Write a python program to display all the header tags from ‘en.wikipedia.org/wiki/Main_Page’."
   ]
  },
  {
   "cell_type": "code",
   "execution_count": 10,
   "metadata": {},
   "outputs": [],
   "source": [
    "# importing the required libraries\n",
    "from bs4 import BeautifulSoup\n",
    "import requests"
   ]
  },
  {
   "cell_type": "markdown",
   "metadata": {},
   "source": [
    "# For displaying all the header Tags"
   ]
  },
  {
   "cell_type": "code",
   "execution_count": 11,
   "metadata": {},
   "outputs": [
    {
     "data": {
      "text/plain": [
       "[<h1 class=\"firstHeading\" id=\"firstHeading\" lang=\"en\">Main Page</h1>,\n",
       " <h2 class=\"mp-h2\" id=\"mp-tfa-h2\"><span id=\"From_today.27s_featured_article\"></span><span class=\"mw-headline\" id=\"From_today's_featured_article\">From today's featured article</span></h2>,\n",
       " <h2 class=\"mp-h2\" id=\"mp-dyk-h2\"><span class=\"mw-headline\" id=\"Did_you_know_...\">Did you know ...</span></h2>,\n",
       " <h2 class=\"mp-h2\" id=\"mp-itn-h2\"><span class=\"mw-headline\" id=\"In_the_news\">In the news</span></h2>,\n",
       " <h2 class=\"mp-h2\" id=\"mp-otd-h2\"><span class=\"mw-headline\" id=\"On_this_day\">On this day</span></h2>,\n",
       " <h2 class=\"mp-h2\" id=\"mp-tfl-h2\"><span id=\"From_today.27s_featured_list\"></span><span class=\"mw-headline\" id=\"From_today's_featured_list\">From today's featured list</span></h2>,\n",
       " <h2 class=\"mp-h2\" id=\"mp-tfp-h2\"><span id=\"Today.27s_featured_picture\"></span><span class=\"mw-headline\" id=\"Today's_featured_picture\">Today's featured picture</span></h2>,\n",
       " <h2 class=\"mp-h2\" id=\"mp-other\"><span class=\"mw-headline\" id=\"Other_areas_of_Wikipedia\">Other areas of Wikipedia</span></h2>,\n",
       " <h2 class=\"mp-h2\" id=\"mp-sister\"><span id=\"Wikipedia.27s_sister_projects\"></span><span class=\"mw-headline\" id=\"Wikipedia's_sister_projects\">Wikipedia's sister projects</span></h2>,\n",
       " <h2 class=\"mp-h2\" id=\"mp-lang\"><span class=\"mw-headline\" id=\"Wikipedia_languages\">Wikipedia languages</span></h2>,\n",
       " <h2>Navigation menu</h2>,\n",
       " <h3 id=\"p-personal-label\">\n",
       " <span>Personal tools</span>\n",
       " </h3>,\n",
       " <h3 id=\"p-namespaces-label\">\n",
       " <span>Namespaces</span>\n",
       " </h3>,\n",
       " <h3 id=\"p-variants-label\">\n",
       " <span>Variants</span>\n",
       " </h3>,\n",
       " <h3 id=\"p-views-label\">\n",
       " <span>Views</span>\n",
       " </h3>,\n",
       " <h3 id=\"p-cactions-label\">\n",
       " <span>More</span>\n",
       " </h3>,\n",
       " <h3>\n",
       " <label for=\"searchInput\">Search</label>\n",
       " </h3>,\n",
       " <h3 id=\"p-navigation-label\">\n",
       " <span>Navigation</span>\n",
       " </h3>,\n",
       " <h3 id=\"p-interaction-label\">\n",
       " <span>Contribute</span>\n",
       " </h3>,\n",
       " <h3 id=\"p-tb-label\">\n",
       " <span>Tools</span>\n",
       " </h3>,\n",
       " <h3 id=\"p-coll-print_export-label\">\n",
       " <span>Print/export</span>\n",
       " </h3>,\n",
       " <h3 id=\"p-wikibase-otherprojects-label\">\n",
       " <span>In other projects</span>\n",
       " </h3>,\n",
       " <h3 id=\"p-lang-label\">\n",
       " <span>Languages</span>\n",
       " </h3>]"
      ]
     },
     "execution_count": 11,
     "metadata": {},
     "output_type": "execute_result"
    }
   ],
   "source": [
    "url = \"https://en.wikipedia.org/wiki/Main_Page\"\n",
    "page = requests.get(url)\n",
    "soup = BeautifulSoup(page.content,'html.parser')\n",
    "soup.find_all(['h{}'.format(i) for i in range(1,6)])"
   ]
  },
  {
   "cell_type": "markdown",
   "metadata": {},
   "source": [
    "# For displaying all the headlines"
   ]
  },
  {
   "cell_type": "code",
   "execution_count": 12,
   "metadata": {
    "scrolled": false
   },
   "outputs": [
    {
     "name": "stdout",
     "output_type": "stream",
     "text": [
      "Main Page\n"
     ]
    }
   ],
   "source": [
    "url = \"https://en.wikipedia.org/wiki/Main_Page\"\n",
    "page = BeautifulSoup(requests.get(url).text, \"lxml\")\n",
    "\n",
    "for headlines in page.find_all(\"h1\"):\n",
    "    print(headlines.text.strip())"
   ]
  },
  {
   "cell_type": "code",
   "execution_count": 13,
   "metadata": {},
   "outputs": [
    {
     "name": "stdout",
     "output_type": "stream",
     "text": [
      "From today's featured article\n",
      "Did you know ...\n",
      "In the news\n",
      "On this day\n",
      "From today's featured list\n",
      "Today's featured picture\n",
      "Other areas of Wikipedia\n",
      "Wikipedia's sister projects\n",
      "Wikipedia languages\n",
      "Navigation menu\n"
     ]
    }
   ],
   "source": [
    "for headlines in page.find_all(\"h2\"):\n",
    "        print(headlines.text.strip())"
   ]
  },
  {
   "cell_type": "code",
   "execution_count": 14,
   "metadata": {},
   "outputs": [
    {
     "name": "stdout",
     "output_type": "stream",
     "text": [
      "Personal tools\n",
      "Namespaces\n",
      "Variants\n",
      "Views\n",
      "More\n",
      "Search\n",
      "Navigation\n",
      "Contribute\n",
      "Tools\n",
      "Print/export\n",
      "In other projects\n",
      "Languages\n"
     ]
    }
   ],
   "source": [
    "for headlines in page.find_all(\"h3\"):\n",
    "    print(headlines.text.strip())"
   ]
  },
  {
   "cell_type": "markdown",
   "metadata": {},
   "source": [
    "2.Write a python program to display IMDB’s Top rated 100 movies’ data (i.e. Name, IMDB rating, Year of release) and save it in form of a CSV file."
   ]
  },
  {
   "cell_type": "code",
   "execution_count": 15,
   "metadata": {},
   "outputs": [
    {
     "name": "stdout",
     "output_type": "stream",
     "text": [
      "250 250 250\n"
     ]
    }
   ],
   "source": [
    "from bs4 import BeautifulSoup\n",
    "import requests\n",
    "url = \"http://www.imdb.com/chart/top\"\n",
    "page = requests.get(url)\n",
    "soup = BeautifulSoup(page.content,'html.parser')\n",
    "\n",
    "title = soup.find_all('td',class_='titleColumn')\n",
    "year = soup.find_all('span',class_='secondaryInfo')\n",
    "rating = soup.find_all('td',class_='ratingColumn imdbRating')\n",
    "\n",
    "Title=[]\n",
    "Year=[]\n",
    "Rating=[]\n",
    "\n",
    "for i in title:\n",
    "    Title.append(i.get_text())\n",
    "for i in year:\n",
    "    Year.append(i.get_text())\n",
    "for i in Rating:\n",
    "    rating.append(i.get_text())\n",
    "\n",
    "print(len(title),len(year),len(rating))"
   ]
  },
  {
   "cell_type": "code",
   "execution_count": 16,
   "metadata": {},
   "outputs": [],
   "source": [
    "import pandas as pd\n",
    "Top = pd.DataFrame({})\n",
    "Top['Title']=title[:100]\n",
    "Top['Year']=year[:100]\n",
    "Top['Rating']=rating[:100]"
   ]
  },
  {
   "cell_type": "code",
   "execution_count": 17,
   "metadata": {},
   "outputs": [
    {
     "data": {
      "text/html": [
       "<div>\n",
       "<style scoped>\n",
       "    .dataframe tbody tr th:only-of-type {\n",
       "        vertical-align: middle;\n",
       "    }\n",
       "\n",
       "    .dataframe tbody tr th {\n",
       "        vertical-align: top;\n",
       "    }\n",
       "\n",
       "    .dataframe thead th {\n",
       "        text-align: right;\n",
       "    }\n",
       "</style>\n",
       "<table border=\"1\" class=\"dataframe\">\n",
       "  <thead>\n",
       "    <tr style=\"text-align: right;\">\n",
       "      <th></th>\n",
       "      <th>Title</th>\n",
       "      <th>Year</th>\n",
       "      <th>Rating</th>\n",
       "    </tr>\n",
       "  </thead>\n",
       "  <tbody>\n",
       "    <tr>\n",
       "      <th>0</th>\n",
       "      <td>[\\n      1.\\n      , [The Shawshank Redemption...</td>\n",
       "      <td>[(1994)]</td>\n",
       "      <td>[\\n, [9.2], \\n]</td>\n",
       "    </tr>\n",
       "    <tr>\n",
       "      <th>1</th>\n",
       "      <td>[\\n      2.\\n      , [The Godfather], \\n, [(19...</td>\n",
       "      <td>[(1972)]</td>\n",
       "      <td>[\\n, [9.1], \\n]</td>\n",
       "    </tr>\n",
       "    <tr>\n",
       "      <th>2</th>\n",
       "      <td>[\\n      3.\\n      , [The Godfather: Part II],...</td>\n",
       "      <td>[(1974)]</td>\n",
       "      <td>[\\n, [9.0], \\n]</td>\n",
       "    </tr>\n",
       "    <tr>\n",
       "      <th>3</th>\n",
       "      <td>[\\n      4.\\n      , [The Dark Knight], \\n, [(...</td>\n",
       "      <td>[(2008)]</td>\n",
       "      <td>[\\n, [9.0], \\n]</td>\n",
       "    </tr>\n",
       "    <tr>\n",
       "      <th>4</th>\n",
       "      <td>[\\n      5.\\n      , [12 Angry Men], \\n, [(195...</td>\n",
       "      <td>[(1957)]</td>\n",
       "      <td>[\\n, [8.9], \\n]</td>\n",
       "    </tr>\n",
       "    <tr>\n",
       "      <th>...</th>\n",
       "      <td>...</td>\n",
       "      <td>...</td>\n",
       "      <td>...</td>\n",
       "    </tr>\n",
       "    <tr>\n",
       "      <th>95</th>\n",
       "      <td>[\\n      96.\\n      , [Citizen Kane], \\n, [(19...</td>\n",
       "      <td>[(1941)]</td>\n",
       "      <td>[\\n, [8.3], \\n]</td>\n",
       "    </tr>\n",
       "    <tr>\n",
       "      <th>96</th>\n",
       "      <td>[\\n      97.\\n      , [Dangal], \\n, [(2016)], \\n]</td>\n",
       "      <td>[(2016)]</td>\n",
       "      <td>[\\n, [8.3], \\n]</td>\n",
       "    </tr>\n",
       "    <tr>\n",
       "      <th>97</th>\n",
       "      <td>[\\n      98.\\n      , [Full Metal Jacket], \\n,...</td>\n",
       "      <td>[(1987)]</td>\n",
       "      <td>[\\n, [8.2], \\n]</td>\n",
       "    </tr>\n",
       "    <tr>\n",
       "      <th>98</th>\n",
       "      <td>[\\n      99.\\n      , [Ladri di biciclette], \\...</td>\n",
       "      <td>[(1948)]</td>\n",
       "      <td>[\\n, [8.2], \\n]</td>\n",
       "    </tr>\n",
       "    <tr>\n",
       "      <th>99</th>\n",
       "      <td>[\\n      100.\\n      , [Singin' in the Rain], ...</td>\n",
       "      <td>[(1952)]</td>\n",
       "      <td>[\\n, [8.2], \\n]</td>\n",
       "    </tr>\n",
       "  </tbody>\n",
       "</table>\n",
       "<p>100 rows × 3 columns</p>\n",
       "</div>"
      ],
      "text/plain": [
       "                                                Title      Year  \\\n",
       "0   [\\n      1.\\n      , [The Shawshank Redemption...  [(1994)]   \n",
       "1   [\\n      2.\\n      , [The Godfather], \\n, [(19...  [(1972)]   \n",
       "2   [\\n      3.\\n      , [The Godfather: Part II],...  [(1974)]   \n",
       "3   [\\n      4.\\n      , [The Dark Knight], \\n, [(...  [(2008)]   \n",
       "4   [\\n      5.\\n      , [12 Angry Men], \\n, [(195...  [(1957)]   \n",
       "..                                                ...       ...   \n",
       "95  [\\n      96.\\n      , [Citizen Kane], \\n, [(19...  [(1941)]   \n",
       "96  [\\n      97.\\n      , [Dangal], \\n, [(2016)], \\n]  [(2016)]   \n",
       "97  [\\n      98.\\n      , [Full Metal Jacket], \\n,...  [(1987)]   \n",
       "98  [\\n      99.\\n      , [Ladri di biciclette], \\...  [(1948)]   \n",
       "99  [\\n      100.\\n      , [Singin' in the Rain], ...  [(1952)]   \n",
       "\n",
       "             Rating  \n",
       "0   [\\n, [9.2], \\n]  \n",
       "1   [\\n, [9.1], \\n]  \n",
       "2   [\\n, [9.0], \\n]  \n",
       "3   [\\n, [9.0], \\n]  \n",
       "4   [\\n, [8.9], \\n]  \n",
       "..              ...  \n",
       "95  [\\n, [8.3], \\n]  \n",
       "96  [\\n, [8.3], \\n]  \n",
       "97  [\\n, [8.2], \\n]  \n",
       "98  [\\n, [8.2], \\n]  \n",
       "99  [\\n, [8.2], \\n]  \n",
       "\n",
       "[100 rows x 3 columns]"
      ]
     },
     "execution_count": 17,
     "metadata": {},
     "output_type": "execute_result"
    }
   ],
   "source": [
    "Top"
   ]
  },
  {
   "cell_type": "markdown",
   "metadata": {},
   "source": [
    "3.Write a python program to display IMDB’s Top rated 100 Indian movies’ data (i.e. Name, IMDB rating, Year of release) and save it in form of a CSV file."
   ]
  },
  {
   "cell_type": "code",
   "execution_count": 18,
   "metadata": {},
   "outputs": [
    {
     "name": "stdout",
     "output_type": "stream",
     "text": [
      "250 250 250\n"
     ]
    }
   ],
   "source": [
    "from bs4 import BeautifulSoup\n",
    "import requests\n",
    "url = \"https://www.imdb.com/india/top-rated-indian-movies/\"\n",
    "page = requests.get(url)\n",
    "soup = BeautifulSoup(page.content,'html.parser')\n",
    "\n",
    "title = soup.find_all('td',class_='titleColumn')\n",
    "year = soup.find_all('span',class_='secondaryInfo')\n",
    "rating = soup.find_all('td',class_='ratingColumn imdbRating')\n",
    "\n",
    "Title=[]\n",
    "Year=[]\n",
    "Rating=[]\n",
    "\n",
    "for i in title:\n",
    "    Title.append(i.get_text())\n",
    "for i in year:\n",
    "    Year.append(i.get_text())\n",
    "for i in Rating:\n",
    "    rating.append(i.get_text())\n",
    "\n",
    "print(len(title),len(year),len(rating))"
   ]
  },
  {
   "cell_type": "code",
   "execution_count": 19,
   "metadata": {},
   "outputs": [],
   "source": [
    "import pandas as pd\n",
    "IM = pd.DataFrame({})\n",
    "IM['Title']=title[:100]\n",
    "IM['Year']=year[:100]\n",
    "IM['Rating']=rating[:100]"
   ]
  },
  {
   "cell_type": "code",
   "execution_count": 20,
   "metadata": {},
   "outputs": [
    {
     "data": {
      "text/html": [
       "<div>\n",
       "<style scoped>\n",
       "    .dataframe tbody tr th:only-of-type {\n",
       "        vertical-align: middle;\n",
       "    }\n",
       "\n",
       "    .dataframe tbody tr th {\n",
       "        vertical-align: top;\n",
       "    }\n",
       "\n",
       "    .dataframe thead th {\n",
       "        text-align: right;\n",
       "    }\n",
       "</style>\n",
       "<table border=\"1\" class=\"dataframe\">\n",
       "  <thead>\n",
       "    <tr style=\"text-align: right;\">\n",
       "      <th></th>\n",
       "      <th>Title</th>\n",
       "      <th>Year</th>\n",
       "      <th>Rating</th>\n",
       "    </tr>\n",
       "  </thead>\n",
       "  <tbody>\n",
       "    <tr>\n",
       "      <th>0</th>\n",
       "      <td>[\\n      1.\\n      , [Pather Panchali], \\n, [(...</td>\n",
       "      <td>[(1955)]</td>\n",
       "      <td>[\\n, [8.5], \\n]</td>\n",
       "    </tr>\n",
       "    <tr>\n",
       "      <th>1</th>\n",
       "      <td>[\\n      2.\\n      , [Gol Maal], \\n, [(1979)],...</td>\n",
       "      <td>[(1979)]</td>\n",
       "      <td>[\\n, [8.5], \\n]</td>\n",
       "    </tr>\n",
       "    <tr>\n",
       "      <th>2</th>\n",
       "      <td>[\\n      3.\\n      , [Ratsasan], \\n, [(2018)],...</td>\n",
       "      <td>[(2018)]</td>\n",
       "      <td>[\\n, [8.5], \\n]</td>\n",
       "    </tr>\n",
       "    <tr>\n",
       "      <th>3</th>\n",
       "      <td>[\\n      4.\\n      , [Nayakan], \\n, [(1987)], \\n]</td>\n",
       "      <td>[(1987)]</td>\n",
       "      <td>[\\n, [8.5], \\n]</td>\n",
       "    </tr>\n",
       "    <tr>\n",
       "      <th>4</th>\n",
       "      <td>[\\n      5.\\n      , [Anbe Sivam], \\n, [(2003)...</td>\n",
       "      <td>[(2003)]</td>\n",
       "      <td>[\\n, [8.5], \\n]</td>\n",
       "    </tr>\n",
       "    <tr>\n",
       "      <th>...</th>\n",
       "      <td>...</td>\n",
       "      <td>...</td>\n",
       "      <td>...</td>\n",
       "    </tr>\n",
       "    <tr>\n",
       "      <th>95</th>\n",
       "      <td>[\\n      96.\\n      , [Lucia], \\n, [(2013)], \\n]</td>\n",
       "      <td>[(2013)]</td>\n",
       "      <td>[\\n, [8.0], \\n]</td>\n",
       "    </tr>\n",
       "    <tr>\n",
       "      <th>96</th>\n",
       "      <td>[\\n      97.\\n      , [Bombay], \\n, [(1995)], \\n]</td>\n",
       "      <td>[(1995)]</td>\n",
       "      <td>[\\n, [8.0], \\n]</td>\n",
       "    </tr>\n",
       "    <tr>\n",
       "      <th>97</th>\n",
       "      <td>[\\n      98.\\n      , [Maqbool], \\n, [(2003)],...</td>\n",
       "      <td>[(2003)]</td>\n",
       "      <td>[\\n, [8.0], \\n]</td>\n",
       "    </tr>\n",
       "    <tr>\n",
       "      <th>98</th>\n",
       "      <td>[\\n      99.\\n      , [Omkara], \\n, [(2006)], \\n]</td>\n",
       "      <td>[(2006)]</td>\n",
       "      <td>[\\n, [8.0], \\n]</td>\n",
       "    </tr>\n",
       "    <tr>\n",
       "      <th>99</th>\n",
       "      <td>[\\n      100.\\n      , [Section 375], \\n, [(20...</td>\n",
       "      <td>[(2019)]</td>\n",
       "      <td>[\\n, [8.0], \\n]</td>\n",
       "    </tr>\n",
       "  </tbody>\n",
       "</table>\n",
       "<p>100 rows × 3 columns</p>\n",
       "</div>"
      ],
      "text/plain": [
       "                                                Title      Year  \\\n",
       "0   [\\n      1.\\n      , [Pather Panchali], \\n, [(...  [(1955)]   \n",
       "1   [\\n      2.\\n      , [Gol Maal], \\n, [(1979)],...  [(1979)]   \n",
       "2   [\\n      3.\\n      , [Ratsasan], \\n, [(2018)],...  [(2018)]   \n",
       "3   [\\n      4.\\n      , [Nayakan], \\n, [(1987)], \\n]  [(1987)]   \n",
       "4   [\\n      5.\\n      , [Anbe Sivam], \\n, [(2003)...  [(2003)]   \n",
       "..                                                ...       ...   \n",
       "95   [\\n      96.\\n      , [Lucia], \\n, [(2013)], \\n]  [(2013)]   \n",
       "96  [\\n      97.\\n      , [Bombay], \\n, [(1995)], \\n]  [(1995)]   \n",
       "97  [\\n      98.\\n      , [Maqbool], \\n, [(2003)],...  [(2003)]   \n",
       "98  [\\n      99.\\n      , [Omkara], \\n, [(2006)], \\n]  [(2006)]   \n",
       "99  [\\n      100.\\n      , [Section 375], \\n, [(20...  [(2019)]   \n",
       "\n",
       "             Rating  \n",
       "0   [\\n, [8.5], \\n]  \n",
       "1   [\\n, [8.5], \\n]  \n",
       "2   [\\n, [8.5], \\n]  \n",
       "3   [\\n, [8.5], \\n]  \n",
       "4   [\\n, [8.5], \\n]  \n",
       "..              ...  \n",
       "95  [\\n, [8.0], \\n]  \n",
       "96  [\\n, [8.0], \\n]  \n",
       "97  [\\n, [8.0], \\n]  \n",
       "98  [\\n, [8.0], \\n]  \n",
       "99  [\\n, [8.0], \\n]  \n",
       "\n",
       "[100 rows x 3 columns]"
      ]
     },
     "execution_count": 20,
     "metadata": {},
     "output_type": "execute_result"
    }
   ],
   "source": [
    "IM"
   ]
  },
  {
   "cell_type": "markdown",
   "metadata": {},
   "source": [
    "4.Write a python program to scrap book name, author name, genre and book review of any 5 books from ‘www.bookpage.com’"
   ]
  },
  {
   "cell_type": "code",
   "execution_count": 21,
   "metadata": {},
   "outputs": [],
   "source": [
    "from bs4 import BeautifulSoup\n",
    "import requests\n",
    "url = \"https://bookpage.com/\"\n",
    "page = requests.get(url)\n",
    "soup = BeautifulSoup(page.content,'html.parser')\n",
    "\n",
    "book = soup.find_all('a',class_='title')\n",
    "author = soup.find_all('p',class_='sans bold')\n",
    "Genre = soup.find_all('p',class_='genre-links hidden-phone')\n",
    "review = soup.find_all('li',class_='dropdown')"
   ]
  },
  {
   "cell_type": "code",
   "execution_count": 22,
   "metadata": {},
   "outputs": [],
   "source": [
    "book_name=[]\n",
    "author_name=[]\n",
    "genre=[]\n",
    "book_review=[]"
   ]
  },
  {
   "cell_type": "code",
   "execution_count": 23,
   "metadata": {},
   "outputs": [],
   "source": [
    "for i in book:\n",
    "    book_name.append(i.get_text())\n",
    "for i in author:\n",
    "    author_name.append(i.get_text())\n",
    "for i in review:\n",
    "    book_review.append(i.get_text())\n",
    "for i in Genre:\n",
    "    genre.append(i.get_text())"
   ]
  },
  {
   "cell_type": "code",
   "execution_count": 24,
   "metadata": {},
   "outputs": [
    {
     "name": "stdout",
     "output_type": "stream",
     "text": [
      "0 6 6 2\n"
     ]
    }
   ],
   "source": [
    "print(len(book_name),len(author_name),len(Genre),len(book_review))"
   ]
  },
  {
   "cell_type": "code",
   "execution_count": 25,
   "metadata": {},
   "outputs": [],
   "source": [
    "import pandas as pd\n",
    "books = pd.DataFrame({})\n",
    "books['book']=book_name[:2]\n",
    "books['author']=author_name[:2]\n",
    "books['genre']=genre[:2]\n",
    "books['review']=book_review[:2]"
   ]
  },
  {
   "cell_type": "code",
   "execution_count": 26,
   "metadata": {},
   "outputs": [
    {
     "data": {
      "text/html": [
       "<div>\n",
       "<style scoped>\n",
       "    .dataframe tbody tr th:only-of-type {\n",
       "        vertical-align: middle;\n",
       "    }\n",
       "\n",
       "    .dataframe tbody tr th {\n",
       "        vertical-align: top;\n",
       "    }\n",
       "\n",
       "    .dataframe thead th {\n",
       "        text-align: right;\n",
       "    }\n",
       "</style>\n",
       "<table border=\"1\" class=\"dataframe\">\n",
       "  <thead>\n",
       "    <tr style=\"text-align: right;\">\n",
       "      <th></th>\n",
       "      <th>book</th>\n",
       "      <th>author</th>\n",
       "      <th>genre</th>\n",
       "      <th>review</th>\n",
       "    </tr>\n",
       "  </thead>\n",
       "  <tbody>\n",
       "    <tr>\n",
       "      <th>0</th>\n",
       "      <td>NaN</td>\n",
       "      <td>\\nFeature by Julie Hale\\n</td>\n",
       "      <td>\\nFiction\\n / \\nPopular Fiction\\n / \\nScience ...</td>\n",
       "      <td>\\nBook Reviews\\n\\nAll Reviews\\nFiction\\nNonfic...</td>\n",
       "    </tr>\n",
       "    <tr>\n",
       "      <th>1</th>\n",
       "      <td>NaN</td>\n",
       "      <td>\\nFeature by Christie Ridgway\\n</td>\n",
       "      <td>\\nRomance\\n / \\nParanormal Romance\\n / \\nHisto...</td>\n",
       "      <td>\\nSubscribe\\n\\nLibrary\\nBookstore\\nIndividual\\n\\n</td>\n",
       "    </tr>\n",
       "  </tbody>\n",
       "</table>\n",
       "</div>"
      ],
      "text/plain": [
       "   book                           author  \\\n",
       "0   NaN        \\nFeature by Julie Hale\\n   \n",
       "1   NaN  \\nFeature by Christie Ridgway\\n   \n",
       "\n",
       "                                               genre  \\\n",
       "0  \\nFiction\\n / \\nPopular Fiction\\n / \\nScience ...   \n",
       "1  \\nRomance\\n / \\nParanormal Romance\\n / \\nHisto...   \n",
       "\n",
       "                                              review  \n",
       "0  \\nBook Reviews\\n\\nAll Reviews\\nFiction\\nNonfic...  \n",
       "1  \\nSubscribe\\n\\nLibrary\\nBookstore\\nIndividual\\n\\n  "
      ]
     },
     "execution_count": 26,
     "metadata": {},
     "output_type": "execute_result"
    }
   ],
   "source": [
    "books"
   ]
  },
  {
   "cell_type": "markdown",
   "metadata": {},
   "source": [
    "5.Write a python program to scrape cricket rankings from ‘www.icc-cricket.com’. You have to scrape:\n",
    "\n",
    "i) Top 10 ODI teams in men’s cricket along with the records for matches, points and rating.\n"
   ]
  },
  {
   "cell_type": "code",
   "execution_count": 27,
   "metadata": {},
   "outputs": [
    {
     "name": "stdout",
     "output_type": "stream",
     "text": [
      "25 38 1 1\n"
     ]
    }
   ],
   "source": [
    "from bs4 import BeautifulSoup\n",
    "import requests\n",
    "page = requests.get(\"https://www.icc-cricket.com/rankings/mens/team-rankings/odi\")\n",
    "soup = BeautifulSoup(page.content,'html.parser')\n",
    "\n",
    "teams = soup.find_all('span',class_='u-hide-phablet')\n",
    "matches = soup.find_all('td',class_='table-body__cell u-center-text')\n",
    "points = soup.find_all('td',class_='rankings-block__banner--points')\n",
    "rating = soup.find_all('td',class_='rankings-block__banner--rating u-text-right')\n",
    "\n",
    "Team_Name=[]\n",
    "Matches=[]\n",
    "Points=[]\n",
    "Rating=[]\n",
    "\n",
    "for i in range(0,len(teams)):\n",
    "    Team_Name.append(teams[i].get_text())  \n",
    "\n",
    "for i in range(0,len(matches)):\n",
    "    Matches.append(matches[i].get_text())\n",
    "    \n",
    "for i in range(0,len(points)):\n",
    "    Points.append(points[i].get_text())\n",
    "\n",
    "for i in range(0,len(rating)):\n",
    "    Rating.append(rating[i].get_text())\n",
    "    \n",
    "print(len(teams),len(matches),len(points),len(rating))"
   ]
  },
  {
   "cell_type": "code",
   "execution_count": 28,
   "metadata": {},
   "outputs": [],
   "source": [
    "import pandas as pd\n",
    "df = pd.DataFrame({})\n",
    "df['Team_Name']=teams[:1]\n",
    "df['Matches']=matches[:1]\n",
    "df['Points']=points[:1]\n",
    "df['Rating']=rating[:1]"
   ]
  },
  {
   "cell_type": "code",
   "execution_count": 29,
   "metadata": {},
   "outputs": [
    {
     "data": {
      "text/html": [
       "<div>\n",
       "<style scoped>\n",
       "    .dataframe tbody tr th:only-of-type {\n",
       "        vertical-align: middle;\n",
       "    }\n",
       "\n",
       "    .dataframe tbody tr th {\n",
       "        vertical-align: top;\n",
       "    }\n",
       "\n",
       "    .dataframe thead th {\n",
       "        text-align: right;\n",
       "    }\n",
       "</style>\n",
       "<table border=\"1\" class=\"dataframe\">\n",
       "  <thead>\n",
       "    <tr style=\"text-align: right;\">\n",
       "      <th></th>\n",
       "      <th>Team_Name</th>\n",
       "      <th>Matches</th>\n",
       "      <th>Points</th>\n",
       "      <th>Rating</th>\n",
       "    </tr>\n",
       "  </thead>\n",
       "  <tbody>\n",
       "    <tr>\n",
       "      <th>0</th>\n",
       "      <td>[England]</td>\n",
       "      <td>[52]</td>\n",
       "      <td>[5,405]</td>\n",
       "      <td>[\\n                            123\\n          ...</td>\n",
       "    </tr>\n",
       "  </tbody>\n",
       "</table>\n",
       "</div>"
      ],
      "text/plain": [
       "   Team_Name Matches   Points  \\\n",
       "0  [England]    [52]  [5,405]   \n",
       "\n",
       "                                              Rating  \n",
       "0  [\\n                            123\\n          ...  "
      ]
     },
     "execution_count": 29,
     "metadata": {},
     "output_type": "execute_result"
    }
   ],
   "source": [
    "df"
   ]
  },
  {
   "cell_type": "markdown",
   "metadata": {},
   "source": [
    "\n",
    "ii) Top 10 ODI Batsmen in men along with the records of their team and rating.\n"
   ]
  },
  {
   "cell_type": "code",
   "execution_count": 30,
   "metadata": {},
   "outputs": [
    {
     "name": "stdout",
     "output_type": "stream",
     "text": [
      "54 54 54\n"
     ]
    }
   ],
   "source": [
    "from bs4 import BeautifulSoup\n",
    "import requests\n",
    "page = requests.get(\"https://www.icc-cricket.com/rankings/mens/player-rankings/odi\")\n",
    "soup = BeautifulSoup(page.content,'html.parser')\n",
    "\n",
    "player = soup.find_all('td',class_='table-body__cell name')\n",
    "team = soup.find_all('span',class_='table-body__logo-text')\n",
    "rating = soup.find_all('td',class_='table-body__cell u-text-right rating')\n",
    "\n",
    "Player=[]\n",
    "Team=[]\n",
    "Rating=[]\n",
    "\n",
    "for i in range(0,len(player)):\n",
    "    Player.append(player[i].get_text())  \n",
    "\n",
    "for i in range(0,len(team)):\n",
    "    Team.append(team[i].get_text())\n",
    "    \n",
    "for i in range(0,len(rating)):\n",
    "    Rating.append(rating[i].get_text())\n",
    "    \n",
    "print(len(player),len(team),len(rating))"
   ]
  },
  {
   "cell_type": "code",
   "execution_count": 31,
   "metadata": {},
   "outputs": [],
   "source": [
    "import pandas as pd\n",
    "df = pd.DataFrame({})\n",
    "df['Player']=player[:10]\n",
    "df['Team']=team[:10]\n",
    "df['Rating']=rating[:10]"
   ]
  },
  {
   "cell_type": "code",
   "execution_count": 32,
   "metadata": {},
   "outputs": [
    {
     "data": {
      "text/html": [
       "<div>\n",
       "<style scoped>\n",
       "    .dataframe tbody tr th:only-of-type {\n",
       "        vertical-align: middle;\n",
       "    }\n",
       "\n",
       "    .dataframe tbody tr th {\n",
       "        vertical-align: top;\n",
       "    }\n",
       "\n",
       "    .dataframe thead th {\n",
       "        text-align: right;\n",
       "    }\n",
       "</style>\n",
       "<table border=\"1\" class=\"dataframe\">\n",
       "  <thead>\n",
       "    <tr style=\"text-align: right;\">\n",
       "      <th></th>\n",
       "      <th>Player</th>\n",
       "      <th>Team</th>\n",
       "      <th>Rating</th>\n",
       "    </tr>\n",
       "  </thead>\n",
       "  <tbody>\n",
       "    <tr>\n",
       "      <th>0</th>\n",
       "      <td>[\\n, [Rohit Sharma], \\n]</td>\n",
       "      <td>[IND]</td>\n",
       "      <td>[842]</td>\n",
       "    </tr>\n",
       "    <tr>\n",
       "      <th>1</th>\n",
       "      <td>[\\n, [Babar Azam], \\n]</td>\n",
       "      <td>[PAK]</td>\n",
       "      <td>[837]</td>\n",
       "    </tr>\n",
       "    <tr>\n",
       "      <th>2</th>\n",
       "      <td>[\\n, [Ross Taylor], \\n]</td>\n",
       "      <td>[NZ]</td>\n",
       "      <td>[818]</td>\n",
       "    </tr>\n",
       "    <tr>\n",
       "      <th>3</th>\n",
       "      <td>[\\n, [Aaron Finch], \\n]</td>\n",
       "      <td>[AUS]</td>\n",
       "      <td>[791]</td>\n",
       "    </tr>\n",
       "    <tr>\n",
       "      <th>4</th>\n",
       "      <td>[\\n, [Francois du Plessis], \\n]</td>\n",
       "      <td>[SA]</td>\n",
       "      <td>[790]</td>\n",
       "    </tr>\n",
       "    <tr>\n",
       "      <th>5</th>\n",
       "      <td>[\\n, [David Warner], \\n]</td>\n",
       "      <td>[AUS]</td>\n",
       "      <td>[773]</td>\n",
       "    </tr>\n",
       "    <tr>\n",
       "      <th>6</th>\n",
       "      <td>[\\n, [Kane Williamson], \\n]</td>\n",
       "      <td>[NZ]</td>\n",
       "      <td>[765]</td>\n",
       "    </tr>\n",
       "    <tr>\n",
       "      <th>7</th>\n",
       "      <td>[\\n, [Quinton de Kock], \\n]</td>\n",
       "      <td>[SA]</td>\n",
       "      <td>[755]</td>\n",
       "    </tr>\n",
       "    <tr>\n",
       "      <th>8</th>\n",
       "      <td>[\\n, [Jonny Bairstow], \\n]</td>\n",
       "      <td>[ENG]</td>\n",
       "      <td>[754]</td>\n",
       "    </tr>\n",
       "    <tr>\n",
       "      <th>9</th>\n",
       "      <td>[\\n, [Mujeeb Ur Rahman], \\n]</td>\n",
       "      <td>[AFG]</td>\n",
       "      <td>[708]</td>\n",
       "    </tr>\n",
       "  </tbody>\n",
       "</table>\n",
       "</div>"
      ],
      "text/plain": [
       "                            Player   Team Rating\n",
       "0         [\\n, [Rohit Sharma], \\n]  [IND]  [842]\n",
       "1           [\\n, [Babar Azam], \\n]  [PAK]  [837]\n",
       "2          [\\n, [Ross Taylor], \\n]   [NZ]  [818]\n",
       "3          [\\n, [Aaron Finch], \\n]  [AUS]  [791]\n",
       "4  [\\n, [Francois du Plessis], \\n]   [SA]  [790]\n",
       "5         [\\n, [David Warner], \\n]  [AUS]  [773]\n",
       "6      [\\n, [Kane Williamson], \\n]   [NZ]  [765]\n",
       "7      [\\n, [Quinton de Kock], \\n]   [SA]  [755]\n",
       "8       [\\n, [Jonny Bairstow], \\n]  [ENG]  [754]\n",
       "9     [\\n, [Mujeeb Ur Rahman], \\n]  [AFG]  [708]"
      ]
     },
     "execution_count": 32,
     "metadata": {},
     "output_type": "execute_result"
    }
   ],
   "source": [
    "df"
   ]
  },
  {
   "cell_type": "markdown",
   "metadata": {},
   "source": [
    "\n",
    "iii) Top 10 ODI bowlers along with the records of their team and rating."
   ]
  },
  {
   "cell_type": "code",
   "execution_count": 33,
   "metadata": {},
   "outputs": [
    {
     "name": "stdout",
     "output_type": "stream",
     "text": [
      "0 54 54\n"
     ]
    }
   ],
   "source": [
    "from bs4 import BeautifulSoup\n",
    "import requests\n",
    "page = requests.get(\"https://www.icc-cricket.com/rankings/mens/player-rankings/odi\")\n",
    "soup = BeautifulSoup(page.content,'html.parser')\n",
    "\n",
    "player = soup.find_all('td',class_='table-head__cell')\n",
    "team = soup.find_all('span',class_='table-body__logo-text')\n",
    "rating = soup.find_all('td',class_='table-body__cell u-text-right rating')\n",
    "\n",
    "Player=[]\n",
    "Team=[]\n",
    "Rating=[]\n",
    "\n",
    "for i in range(0,len(player)):\n",
    "    Player.append(player[i].get_text())  \n",
    "\n",
    "for i in range(0,len(team)):\n",
    "    Team.append(team[i].get_text())\n",
    "    \n",
    "for i in range(0,len(rating)):\n",
    "    Rating.append(rating[i].get_text())\n",
    "    \n",
    "print(len(player),len(team),len(rating))"
   ]
  },
  {
   "cell_type": "code",
   "execution_count": 34,
   "metadata": {},
   "outputs": [],
   "source": [
    "import pandas as pd\n",
    "df = pd.DataFrame({})\n",
    "df['Player']=player[:10]\n",
    "df['Team']=team[:10]\n",
    "df['Rating']=rating[:10]"
   ]
  },
  {
   "cell_type": "code",
   "execution_count": 35,
   "metadata": {},
   "outputs": [
    {
     "data": {
      "text/html": [
       "<div>\n",
       "<style scoped>\n",
       "    .dataframe tbody tr th:only-of-type {\n",
       "        vertical-align: middle;\n",
       "    }\n",
       "\n",
       "    .dataframe tbody tr th {\n",
       "        vertical-align: top;\n",
       "    }\n",
       "\n",
       "    .dataframe thead th {\n",
       "        text-align: right;\n",
       "    }\n",
       "</style>\n",
       "<table border=\"1\" class=\"dataframe\">\n",
       "  <thead>\n",
       "    <tr style=\"text-align: right;\">\n",
       "      <th></th>\n",
       "      <th>Player</th>\n",
       "      <th>Team</th>\n",
       "      <th>Rating</th>\n",
       "    </tr>\n",
       "  </thead>\n",
       "  <tbody>\n",
       "    <tr>\n",
       "      <th>0</th>\n",
       "      <td>NaN</td>\n",
       "      <td>[IND]</td>\n",
       "      <td>[842]</td>\n",
       "    </tr>\n",
       "    <tr>\n",
       "      <th>1</th>\n",
       "      <td>NaN</td>\n",
       "      <td>[PAK]</td>\n",
       "      <td>[837]</td>\n",
       "    </tr>\n",
       "    <tr>\n",
       "      <th>2</th>\n",
       "      <td>NaN</td>\n",
       "      <td>[NZ]</td>\n",
       "      <td>[818]</td>\n",
       "    </tr>\n",
       "    <tr>\n",
       "      <th>3</th>\n",
       "      <td>NaN</td>\n",
       "      <td>[AUS]</td>\n",
       "      <td>[791]</td>\n",
       "    </tr>\n",
       "    <tr>\n",
       "      <th>4</th>\n",
       "      <td>NaN</td>\n",
       "      <td>[SA]</td>\n",
       "      <td>[790]</td>\n",
       "    </tr>\n",
       "    <tr>\n",
       "      <th>5</th>\n",
       "      <td>NaN</td>\n",
       "      <td>[AUS]</td>\n",
       "      <td>[773]</td>\n",
       "    </tr>\n",
       "    <tr>\n",
       "      <th>6</th>\n",
       "      <td>NaN</td>\n",
       "      <td>[NZ]</td>\n",
       "      <td>[765]</td>\n",
       "    </tr>\n",
       "    <tr>\n",
       "      <th>7</th>\n",
       "      <td>NaN</td>\n",
       "      <td>[SA]</td>\n",
       "      <td>[755]</td>\n",
       "    </tr>\n",
       "    <tr>\n",
       "      <th>8</th>\n",
       "      <td>NaN</td>\n",
       "      <td>[ENG]</td>\n",
       "      <td>[754]</td>\n",
       "    </tr>\n",
       "    <tr>\n",
       "      <th>9</th>\n",
       "      <td>NaN</td>\n",
       "      <td>[AFG]</td>\n",
       "      <td>[708]</td>\n",
       "    </tr>\n",
       "  </tbody>\n",
       "</table>\n",
       "</div>"
      ],
      "text/plain": [
       "   Player   Team Rating\n",
       "0     NaN  [IND]  [842]\n",
       "1     NaN  [PAK]  [837]\n",
       "2     NaN   [NZ]  [818]\n",
       "3     NaN  [AUS]  [791]\n",
       "4     NaN   [SA]  [790]\n",
       "5     NaN  [AUS]  [773]\n",
       "6     NaN   [NZ]  [765]\n",
       "7     NaN   [SA]  [755]\n",
       "8     NaN  [ENG]  [754]\n",
       "9     NaN  [AFG]  [708]"
      ]
     },
     "execution_count": 35,
     "metadata": {},
     "output_type": "execute_result"
    }
   ],
   "source": [
    "df"
   ]
  },
  {
   "cell_type": "markdown",
   "metadata": {},
   "source": [
    "6.Write a python program to scrape cricket rankings from ‘www.icc-cricket.com’. You have to scrape: \n",
    "\n",
    "i) Top 10 ODI teams in women’s cricket along with the records for matches, points and rating. \n"
   ]
  },
  {
   "cell_type": "code",
   "execution_count": 36,
   "metadata": {},
   "outputs": [],
   "source": [
    "from bs4 import BeautifulSoup\n",
    "import requests\n",
    "page = requests.get(\"https://www.icc-cricket.com/rankings/womens/team-rankings/odi\")\n",
    "soup = BeautifulSoup(page.content,'html.parser')\n",
    "\n",
    "teams = soup.find_all('span',class_='u-hide-phablet')\n",
    "matches = soup.find_all('td',class_='table-body__cell u-center-text')\n",
    "points = soup.find_all('td',class_='rankings-block__banner--points')\n",
    "rating = soup.find_all('td',class_='rankings-block__banner--rating u-text-right')\n",
    "\n",
    "Team_Name=[]\n",
    "Matches=[]\n",
    "Points=[]\n",
    "Rating=[]\n",
    "\n",
    "for i in range(0,len(teams)):\n",
    "    Team_Name.append(teams[i].get_text())  \n",
    "\n",
    "for i in range(0,len(matches)):\n",
    "    Matches.append(matches[i].get_text())\n",
    "    \n",
    "for i in range(0,len(points)):\n",
    "    Points.append(points[i].get_text())\n",
    "\n",
    "for i in range(0,len(rating)):\n",
    "    Rating.append(rating[i].get_text())"
   ]
  },
  {
   "cell_type": "code",
   "execution_count": 37,
   "metadata": {},
   "outputs": [
    {
     "name": "stdout",
     "output_type": "stream",
     "text": [
      "15 18 1 1\n"
     ]
    }
   ],
   "source": [
    "print(len(teams),len(matches),len(points),len(rating))"
   ]
  },
  {
   "cell_type": "code",
   "execution_count": 38,
   "metadata": {},
   "outputs": [],
   "source": [
    "import pandas as pd\n",
    "df = pd.DataFrame({})\n",
    "df['Team_Name']=teams[:1]\n",
    "df['Matches']=matches[:1]\n",
    "df['Points']=points[:1]\n",
    "df['Rating']=rating[:1]"
   ]
  },
  {
   "cell_type": "code",
   "execution_count": 39,
   "metadata": {},
   "outputs": [
    {
     "data": {
      "text/html": [
       "<div>\n",
       "<style scoped>\n",
       "    .dataframe tbody tr th:only-of-type {\n",
       "        vertical-align: middle;\n",
       "    }\n",
       "\n",
       "    .dataframe tbody tr th {\n",
       "        vertical-align: top;\n",
       "    }\n",
       "\n",
       "    .dataframe thead th {\n",
       "        text-align: right;\n",
       "    }\n",
       "</style>\n",
       "<table border=\"1\" class=\"dataframe\">\n",
       "  <thead>\n",
       "    <tr style=\"text-align: right;\">\n",
       "      <th></th>\n",
       "      <th>Team_Name</th>\n",
       "      <th>Matches</th>\n",
       "      <th>Points</th>\n",
       "      <th>Rating</th>\n",
       "    </tr>\n",
       "  </thead>\n",
       "  <tbody>\n",
       "    <tr>\n",
       "      <th>0</th>\n",
       "      <td>[Australia]</td>\n",
       "      <td>[15]</td>\n",
       "      <td>[2,436]</td>\n",
       "      <td>[\\n                            162\\n          ...</td>\n",
       "    </tr>\n",
       "  </tbody>\n",
       "</table>\n",
       "</div>"
      ],
      "text/plain": [
       "     Team_Name Matches   Points  \\\n",
       "0  [Australia]    [15]  [2,436]   \n",
       "\n",
       "                                              Rating  \n",
       "0  [\\n                            162\\n          ...  "
      ]
     },
     "execution_count": 39,
     "metadata": {},
     "output_type": "execute_result"
    }
   ],
   "source": [
    "df"
   ]
  },
  {
   "cell_type": "markdown",
   "metadata": {},
   "source": [
    "ii) Top 10 women’s ODI players along with the records of their team and rating. "
   ]
  },
  {
   "cell_type": "code",
   "execution_count": 40,
   "metadata": {},
   "outputs": [
    {
     "name": "stdout",
     "output_type": "stream",
     "text": [
      "0 27 27\n"
     ]
    }
   ],
   "source": [
    "from bs4 import BeautifulSoup\n",
    "import requests\n",
    "page = requests.get(\"https://www.icc-cricket.com/rankings/womens/player-rankings/odi\")\n",
    "soup = BeautifulSoup(page.content,'html.parser')\n",
    "\n",
    "player = soup.find_all('a',class_='table-body__cell name')\n",
    "team = soup.find_all('td',class_='table-body__cell nationality-logo')\n",
    "rating = soup.find_all('td',class_='table-body__cell u-text-right rating')\n",
    "\n",
    "Player=[]\n",
    "Team=[]\n",
    "Rating=[]\n",
    "\n",
    "for i in range(0,len(player)):\n",
    "    Player.append(player[i].get_text())  \n",
    "\n",
    "for i in range(0,len(team)):\n",
    "    Team.append(team[i].get_text())\n",
    "    \n",
    "for i in range(0,len(rating)):\n",
    "    Rating.append(rating[i].get_text())\n",
    "    \n",
    "print(len(player),len(team),len(rating))"
   ]
  },
  {
   "cell_type": "code",
   "execution_count": 41,
   "metadata": {},
   "outputs": [],
   "source": [
    "import pandas as pd\n",
    "df = pd.DataFrame({})\n",
    "df['Player']=player[:1]\n",
    "df['Team']=team[:1]\n",
    "df['Rating']=rating[:1]"
   ]
  },
  {
   "cell_type": "code",
   "execution_count": 42,
   "metadata": {},
   "outputs": [
    {
     "data": {
      "text/html": [
       "<div>\n",
       "<style scoped>\n",
       "    .dataframe tbody tr th:only-of-type {\n",
       "        vertical-align: middle;\n",
       "    }\n",
       "\n",
       "    .dataframe tbody tr th {\n",
       "        vertical-align: top;\n",
       "    }\n",
       "\n",
       "    .dataframe thead th {\n",
       "        text-align: right;\n",
       "    }\n",
       "</style>\n",
       "<table border=\"1\" class=\"dataframe\">\n",
       "  <thead>\n",
       "    <tr style=\"text-align: right;\">\n",
       "      <th></th>\n",
       "      <th>Player</th>\n",
       "      <th>Team</th>\n",
       "      <th>Rating</th>\n",
       "    </tr>\n",
       "  </thead>\n",
       "  <tbody>\n",
       "    <tr>\n",
       "      <th>0</th>\n",
       "      <td>NaN</td>\n",
       "      <td>[\\n, [], \\n, [WI], \\n]</td>\n",
       "      <td>[746]</td>\n",
       "    </tr>\n",
       "  </tbody>\n",
       "</table>\n",
       "</div>"
      ],
      "text/plain": [
       "   Player                    Team Rating\n",
       "0     NaN  [\\n, [], \\n, [WI], \\n]  [746]"
      ]
     },
     "execution_count": 42,
     "metadata": {},
     "output_type": "execute_result"
    }
   ],
   "source": [
    "df"
   ]
  },
  {
   "cell_type": "markdown",
   "metadata": {},
   "source": [
    "iii) Top 10 women’s ODI all-rounder along with the records of their team and rating."
   ]
  },
  {
   "cell_type": "code",
   "execution_count": 43,
   "metadata": {},
   "outputs": [
    {
     "name": "stdout",
     "output_type": "stream",
     "text": [
      "0 27 27\n"
     ]
    }
   ],
   "source": [
    "from bs4 import BeautifulSoup\n",
    "import requests\n",
    "page = requests.get(\"https://www.icc-cricket.com/rankings/womens/player-rankings/odi\")\n",
    "soup = BeautifulSoup(page.content,'html.parser')\n",
    "\n",
    "player = soup.find_all('th',class_='table-head')\n",
    "team = soup.find_all('td',class_='table-body__cell nationality-logo')\n",
    "rating = soup.find_all('td',class_='table-body__cell u-text-right rating')\n",
    "\n",
    "Player=[]\n",
    "Team=[]\n",
    "Rating=[]\n",
    "\n",
    "for i in range(0,len(player)):\n",
    "    Player.append(player[i].get_text())  \n",
    "\n",
    "for i in range(0,len(team)):\n",
    "    Team.append(team[i].get_text())\n",
    "    \n",
    "for i in range(0,len(rating)):\n",
    "    Rating.append(rating[i].get_text())\n",
    "    \n",
    "print(len(player),len(team),len(rating))"
   ]
  },
  {
   "cell_type": "code",
   "execution_count": 44,
   "metadata": {},
   "outputs": [],
   "source": [
    "import pandas as pd\n",
    "df = pd.DataFrame({})\n",
    "df['Player']=player[:3]\n",
    "df['Team']=team[:3]\n",
    "df['Rating']=rating[:3]"
   ]
  },
  {
   "cell_type": "code",
   "execution_count": 45,
   "metadata": {},
   "outputs": [
    {
     "data": {
      "text/html": [
       "<div>\n",
       "<style scoped>\n",
       "    .dataframe tbody tr th:only-of-type {\n",
       "        vertical-align: middle;\n",
       "    }\n",
       "\n",
       "    .dataframe tbody tr th {\n",
       "        vertical-align: top;\n",
       "    }\n",
       "\n",
       "    .dataframe thead th {\n",
       "        text-align: right;\n",
       "    }\n",
       "</style>\n",
       "<table border=\"1\" class=\"dataframe\">\n",
       "  <thead>\n",
       "    <tr style=\"text-align: right;\">\n",
       "      <th></th>\n",
       "      <th>Player</th>\n",
       "      <th>Team</th>\n",
       "      <th>Rating</th>\n",
       "    </tr>\n",
       "  </thead>\n",
       "  <tbody>\n",
       "    <tr>\n",
       "      <th>0</th>\n",
       "      <td>NaN</td>\n",
       "      <td>[\\n, [], \\n, [WI], \\n]</td>\n",
       "      <td>[746]</td>\n",
       "    </tr>\n",
       "    <tr>\n",
       "      <th>1</th>\n",
       "      <td>NaN</td>\n",
       "      <td>[\\n, [], \\n, [AUS], \\n]</td>\n",
       "      <td>[741]</td>\n",
       "    </tr>\n",
       "    <tr>\n",
       "      <th>2</th>\n",
       "      <td>NaN</td>\n",
       "      <td>[\\n, [], \\n, [IND], \\n]</td>\n",
       "      <td>[732]</td>\n",
       "    </tr>\n",
       "  </tbody>\n",
       "</table>\n",
       "</div>"
      ],
      "text/plain": [
       "   Player                     Team Rating\n",
       "0     NaN   [\\n, [], \\n, [WI], \\n]  [746]\n",
       "1     NaN  [\\n, [], \\n, [AUS], \\n]  [741]\n",
       "2     NaN  [\\n, [], \\n, [IND], \\n]  [732]"
      ]
     },
     "execution_count": 45,
     "metadata": {},
     "output_type": "execute_result"
    }
   ],
   "source": [
    "df"
   ]
  },
  {
   "cell_type": "markdown",
   "metadata": {},
   "source": [
    "\n",
    "7.Write a python program to scrape details of all the mobile phones under Rs. 20,000 listed on Amazon.in. The scraped data should include Product Name, Price, Image URL and Average Rating."
   ]
  },
  {
   "cell_type": "code",
   "execution_count": 46,
   "metadata": {},
   "outputs": [],
   "source": [
    "from bs4 import BeautifulSoup\n",
    "import requests\n",
    "page = requests.get(\"https://www.amazon.in/s?k=mobiles+under+20000&ref=nb_sb_noss_2\")\n",
    "soup = BeautifulSoup(page.content,'html.parser')\n",
    "\n",
    "name = soup.find_all('span',class_='a-size-medium a-color-base a-text-normal')\n",
    "price = soup.find_all('span',class_='a-price-whole')\n",
    "rating = soup.find_all('i',class_='a-icon a-icon-star-small a-star-small-4 aok-align-bottom')"
   ]
  },
  {
   "cell_type": "code",
   "execution_count": 47,
   "metadata": {},
   "outputs": [],
   "source": [
    "Product_Name=[]\n",
    "Price=[]\n",
    "Average_Rating=[]"
   ]
  },
  {
   "cell_type": "code",
   "execution_count": 48,
   "metadata": {},
   "outputs": [
    {
     "name": "stdout",
     "output_type": "stream",
     "text": [
      "https://images-eu.ssl-images-amazon.com/images/G/31/gno/sprites/nav-sprite-global-1x-hm-dsk-reorg._CB405936311_.png\n",
      "https://images-eu.ssl-images-amazon.com/images/G/31/img19/MAI/Sweepstakes/June20/SWM_DownloadApp._CB410314483_.jpg\n",
      "https://m.media-amazon.com/images/I/71A9Vo1BatL._AC_UY218_.jpg\n",
      "https://m.media-amazon.com/images/I/71hDPUM7VPL._AC_UY218_.jpg\n",
      "https://m.media-amazon.com/images/I/61CnyJ-IbML._AC_UY218_.jpg\n",
      "https://m.media-amazon.com/images/I/81o1rDu5FZL._AC_UY218_.jpg\n",
      "https://m.media-amazon.com/images/I/71AYb2AGHXL._AC_UY218_.jpg\n",
      "https://m.media-amazon.com/images/I/81onqHVeECL._AC_UY218_.jpg\n",
      "https://m.media-amazon.com/images/I/71KCwNV6MuL._AC_UY218_.jpg\n",
      "https://m.media-amazon.com/images/I/41QsvcpKaZL._AC_UY218_.jpg\n",
      "https://m.media-amazon.com/images/I/71hDPUM7VPL._AC_UY218_.jpg\n",
      "https://m.media-amazon.com/images/I/71OxJeyywSL._AC_UY218_.jpg\n",
      "https://m.media-amazon.com/images/I/710p2f-zAdL._AC_UY218_.jpg\n",
      "https://m.media-amazon.com/images/I/71AYb2AGHXL._AC_UY218_.jpg\n",
      "https://m.media-amazon.com/images/I/71hDPUM7VPL._AC_UY218_.jpg\n",
      "https://m.media-amazon.com/images/I/71Sinqbw35L._AC_UY218_.jpg\n",
      "https://m.media-amazon.com/images/I/71dujTTJDZL._AC_UY218_.jpg\n",
      "https://m.media-amazon.com/images/I/71jzMLHiMfL._AC_UY218_.jpg\n"
     ]
    }
   ],
   "source": [
    "images = soup.find_all('img') \n",
    "  \n",
    "for i in images: \n",
    "    print(i['src']) "
   ]
  },
  {
   "cell_type": "code",
   "execution_count": 49,
   "metadata": {},
   "outputs": [],
   "source": [
    "for i in range(0,len(name)):\n",
    "    Product_Name.append(name[i].get_text())  \n",
    "\n",
    "for i in range(0,len(price)):\n",
    "    Price.append(price[i].get_text())\n",
    "\n",
    "for i in range(0,len(rating)):\n",
    "    Average_Rating.append(rating[i].get_text())\n"
   ]
  },
  {
   "cell_type": "code",
   "execution_count": 50,
   "metadata": {},
   "outputs": [
    {
     "name": "stdout",
     "output_type": "stream",
     "text": [
      "16 14 13\n"
     ]
    }
   ],
   "source": [
    "print(len(name),len(price),len(rating))"
   ]
  },
  {
   "cell_type": "code",
   "execution_count": 51,
   "metadata": {},
   "outputs": [],
   "source": [
    "import pandas as pd\n",
    "df = pd.DataFrame({})\n",
    "df['Product_Name']=name[:10]\n",
    "df['Price']=price[:10]\n",
    "df['Average_Rating']=rating[:10]"
   ]
  },
  {
   "cell_type": "code",
   "execution_count": 52,
   "metadata": {},
   "outputs": [
    {
     "data": {
      "text/html": [
       "<div>\n",
       "<style scoped>\n",
       "    .dataframe tbody tr th:only-of-type {\n",
       "        vertical-align: middle;\n",
       "    }\n",
       "\n",
       "    .dataframe tbody tr th {\n",
       "        vertical-align: top;\n",
       "    }\n",
       "\n",
       "    .dataframe thead th {\n",
       "        text-align: right;\n",
       "    }\n",
       "</style>\n",
       "<table border=\"1\" class=\"dataframe\">\n",
       "  <thead>\n",
       "    <tr style=\"text-align: right;\">\n",
       "      <th></th>\n",
       "      <th>Product_Name</th>\n",
       "      <th>Price</th>\n",
       "      <th>Average_Rating</th>\n",
       "    </tr>\n",
       "  </thead>\n",
       "  <tbody>\n",
       "    <tr>\n",
       "      <th>0</th>\n",
       "      <td>[Redmi 9 (Sky Blue, 4GB RAM, 64GB Storage)]</td>\n",
       "      <td>[8,999]</td>\n",
       "      <td>[[4.0 out of 5 stars]]</td>\n",
       "    </tr>\n",
       "    <tr>\n",
       "      <th>1</th>\n",
       "      <td>[Redmi 9A (Nature Green, 2GB Ram, 32GB Storage)]</td>\n",
       "      <td>[6,999]</td>\n",
       "      <td>[[4.2 out of 5 stars]]</td>\n",
       "    </tr>\n",
       "    <tr>\n",
       "      <th>2</th>\n",
       "      <td>[Oppo A31 (Fantasy White, 6GB RAM, 128GB Stora...</td>\n",
       "      <td>[11,990]</td>\n",
       "      <td>[[4.0 out of 5 stars]]</td>\n",
       "    </tr>\n",
       "    <tr>\n",
       "      <th>3</th>\n",
       "      <td>[Samsung Galaxy M01 (Blue, 3GB RAM, 32GB Stora...</td>\n",
       "      <td>[7,499]</td>\n",
       "      <td>[[3.9 out of 5 stars]]</td>\n",
       "    </tr>\n",
       "    <tr>\n",
       "      <th>4</th>\n",
       "      <td>[Samsung Galaxy M01 Core (Black, 2GB RAM, 32GB...</td>\n",
       "      <td>[5,999]</td>\n",
       "      <td>[[3.9 out of 5 stars]]</td>\n",
       "    </tr>\n",
       "    <tr>\n",
       "      <th>5</th>\n",
       "      <td>[Samsung Galaxy M01 (Black, 3GB RAM, 32GB Stor...</td>\n",
       "      <td>[7,499]</td>\n",
       "      <td>[[4.0 out of 5 stars]]</td>\n",
       "    </tr>\n",
       "    <tr>\n",
       "      <th>6</th>\n",
       "      <td>[Oppo A31 (Mystery Black, 6GB RAM, 128GB Stora...</td>\n",
       "      <td>[11,990]</td>\n",
       "      <td>[[4.2 out of 5 stars]]</td>\n",
       "    </tr>\n",
       "    <tr>\n",
       "      <th>7</th>\n",
       "      <td>[Panasonic Eluga i7 (2GB RAM, 16GB Storage, Fi...</td>\n",
       "      <td>[5,000]</td>\n",
       "      <td>[[4.2 out of 5 stars]]</td>\n",
       "    </tr>\n",
       "    <tr>\n",
       "      <th>8</th>\n",
       "      <td>[Redmi 9A (Sea Blue, 2GB Ram, 32GB Storage)]</td>\n",
       "      <td>[6,999]</td>\n",
       "      <td>[[4.1 out of 5 stars]]</td>\n",
       "    </tr>\n",
       "    <tr>\n",
       "      <th>9</th>\n",
       "      <td>[Samsung Galaxy M31 (Space Black, 6GB RAM, 128...</td>\n",
       "      <td>[7,999]</td>\n",
       "      <td>[[4.2 out of 5 stars]]</td>\n",
       "    </tr>\n",
       "  </tbody>\n",
       "</table>\n",
       "</div>"
      ],
      "text/plain": [
       "                                        Product_Name     Price  \\\n",
       "0        [Redmi 9 (Sky Blue, 4GB RAM, 64GB Storage)]   [8,999]   \n",
       "1   [Redmi 9A (Nature Green, 2GB Ram, 32GB Storage)]   [6,999]   \n",
       "2  [Oppo A31 (Fantasy White, 6GB RAM, 128GB Stora...  [11,990]   \n",
       "3  [Samsung Galaxy M01 (Blue, 3GB RAM, 32GB Stora...   [7,499]   \n",
       "4  [Samsung Galaxy M01 Core (Black, 2GB RAM, 32GB...   [5,999]   \n",
       "5  [Samsung Galaxy M01 (Black, 3GB RAM, 32GB Stor...   [7,499]   \n",
       "6  [Oppo A31 (Mystery Black, 6GB RAM, 128GB Stora...  [11,990]   \n",
       "7  [Panasonic Eluga i7 (2GB RAM, 16GB Storage, Fi...   [5,000]   \n",
       "8       [Redmi 9A (Sea Blue, 2GB Ram, 32GB Storage)]   [6,999]   \n",
       "9  [Samsung Galaxy M31 (Space Black, 6GB RAM, 128...   [7,999]   \n",
       "\n",
       "           Average_Rating  \n",
       "0  [[4.0 out of 5 stars]]  \n",
       "1  [[4.2 out of 5 stars]]  \n",
       "2  [[4.0 out of 5 stars]]  \n",
       "3  [[3.9 out of 5 stars]]  \n",
       "4  [[3.9 out of 5 stars]]  \n",
       "5  [[4.0 out of 5 stars]]  \n",
       "6  [[4.2 out of 5 stars]]  \n",
       "7  [[4.2 out of 5 stars]]  \n",
       "8  [[4.1 out of 5 stars]]  \n",
       "9  [[4.2 out of 5 stars]]  "
      ]
     },
     "execution_count": 52,
     "metadata": {},
     "output_type": "execute_result"
    }
   ],
   "source": [
    "df"
   ]
  },
  {
   "cell_type": "markdown",
   "metadata": {},
   "source": [
    "8.Write a python program to extract information about the local weather from the National Weather Service website of USA, https://www.weather.gov/ for the city, San Francisco. You need to extract data about 7 day extended forecast display for the city. The data should include period, short description, temperature and description."
   ]
  },
  {
   "cell_type": "code",
   "execution_count": 53,
   "metadata": {},
   "outputs": [],
   "source": [
    "from bs4 import BeautifulSoup\n",
    "import requests\n",
    "page = requests.get(\"https://forecast.weather.gov/MapClick.php?lat=37.777120000000025&lon=-122.41963999999996#.YB4WBegzZPY\")\n",
    "soup = BeautifulSoup(page.content, 'html.parser')\n",
    "seven_day = soup.find(id=\"seven-day-forecast\")\n",
    "forecast_items = seven_day.find_all(class_=\"tombstone-container\")\n",
    "tonight = forecast_items[0]\n",
    "\n",
    "period = tonight.find(class_=\"period-name\").get_text()\n",
    "short_desc = tonight.find(class_=\"short-desc\").get_text()\n",
    "temp = tonight.find(class_=\"temp\").get_text()\n",
    "\n",
    "img = tonight.find(\"img\")\n",
    "desc = img['title']\n",
    "\n",
    "period_tags = seven_day.select(\".tombstone-container .period-name\")\n",
    "periods = [pt.get_text() for pt in period_tags]\n",
    "\n",
    "short_descs = [sd.get_text() for sd in seven_day.select(\".tombstone-container .short-desc\")]\n",
    "temps = [t.get_text() for t in seven_day.select(\".tombstone-container .temp\")]\n",
    "descs = [d[\"title\"] for d in seven_day.select(\".tombstone-container img\")]\n",
    "\n",
    "import pandas as pd\n",
    "weather = pd.DataFrame({})\n",
    "weather[\"period\"]=periods[:7]\n",
    "weather[\"short_desc\"]=short_descs[:7]\n",
    "weather['temp']=temps[:7]\n",
    "weather['desc']=descs[:7]"
   ]
  },
  {
   "cell_type": "code",
   "execution_count": 54,
   "metadata": {},
   "outputs": [
    {
     "data": {
      "text/html": [
       "<div>\n",
       "<style scoped>\n",
       "    .dataframe tbody tr th:only-of-type {\n",
       "        vertical-align: middle;\n",
       "    }\n",
       "\n",
       "    .dataframe tbody tr th {\n",
       "        vertical-align: top;\n",
       "    }\n",
       "\n",
       "    .dataframe thead th {\n",
       "        text-align: right;\n",
       "    }\n",
       "</style>\n",
       "<table border=\"1\" class=\"dataframe\">\n",
       "  <thead>\n",
       "    <tr style=\"text-align: right;\">\n",
       "      <th></th>\n",
       "      <th>period</th>\n",
       "      <th>short_desc</th>\n",
       "      <th>temp</th>\n",
       "      <th>desc</th>\n",
       "    </tr>\n",
       "  </thead>\n",
       "  <tbody>\n",
       "    <tr>\n",
       "      <th>0</th>\n",
       "      <td>Overnight</td>\n",
       "      <td>Mostly Cloudy</td>\n",
       "      <td>Low: 48 °F</td>\n",
       "      <td>Overnight: Mostly cloudy, with a steady temper...</td>\n",
       "    </tr>\n",
       "    <tr>\n",
       "      <th>1</th>\n",
       "      <td>Monday</td>\n",
       "      <td>Mostly Cloudy</td>\n",
       "      <td>High: 58 °F</td>\n",
       "      <td>Monday: Mostly cloudy, with a high near 58. Ca...</td>\n",
       "    </tr>\n",
       "    <tr>\n",
       "      <th>2</th>\n",
       "      <td>MondayNight</td>\n",
       "      <td>Mostly Cloudy</td>\n",
       "      <td>Low: 48 °F</td>\n",
       "      <td>Monday Night: Mostly cloudy, with a low around...</td>\n",
       "    </tr>\n",
       "    <tr>\n",
       "      <th>3</th>\n",
       "      <td>Tuesday</td>\n",
       "      <td>Mostly Cloudy</td>\n",
       "      <td>High: 58 °F</td>\n",
       "      <td>Tuesday: Mostly cloudy, with a high near 58. W...</td>\n",
       "    </tr>\n",
       "    <tr>\n",
       "      <th>4</th>\n",
       "      <td>TuesdayNight</td>\n",
       "      <td>Mostly Cloudy</td>\n",
       "      <td>Low: 47 °F</td>\n",
       "      <td>Tuesday Night: Mostly cloudy, with a low aroun...</td>\n",
       "    </tr>\n",
       "    <tr>\n",
       "      <th>5</th>\n",
       "      <td>Wednesday</td>\n",
       "      <td>Sunny</td>\n",
       "      <td>High: 60 °F</td>\n",
       "      <td>Wednesday: Sunny, with a high near 60.</td>\n",
       "    </tr>\n",
       "    <tr>\n",
       "      <th>6</th>\n",
       "      <td>WednesdayNight</td>\n",
       "      <td>Partly Cloudy</td>\n",
       "      <td>Low: 48 °F</td>\n",
       "      <td>Wednesday Night: Partly cloudy, with a low aro...</td>\n",
       "    </tr>\n",
       "  </tbody>\n",
       "</table>\n",
       "</div>"
      ],
      "text/plain": [
       "           period     short_desc         temp  \\\n",
       "0       Overnight  Mostly Cloudy   Low: 48 °F   \n",
       "1          Monday  Mostly Cloudy  High: 58 °F   \n",
       "2     MondayNight  Mostly Cloudy   Low: 48 °F   \n",
       "3         Tuesday  Mostly Cloudy  High: 58 °F   \n",
       "4    TuesdayNight  Mostly Cloudy   Low: 47 °F   \n",
       "5       Wednesday          Sunny  High: 60 °F   \n",
       "6  WednesdayNight  Partly Cloudy   Low: 48 °F   \n",
       "\n",
       "                                                desc  \n",
       "0  Overnight: Mostly cloudy, with a steady temper...  \n",
       "1  Monday: Mostly cloudy, with a high near 58. Ca...  \n",
       "2  Monday Night: Mostly cloudy, with a low around...  \n",
       "3  Tuesday: Mostly cloudy, with a high near 58. W...  \n",
       "4  Tuesday Night: Mostly cloudy, with a low aroun...  \n",
       "5             Wednesday: Sunny, with a high near 60.  \n",
       "6  Wednesday Night: Partly cloudy, with a low aro...  "
      ]
     },
     "execution_count": 54,
     "metadata": {},
     "output_type": "execute_result"
    }
   ],
   "source": [
    "weather"
   ]
  }
 ],
 "metadata": {
  "kernelspec": {
   "display_name": "Python 3",
   "language": "python",
   "name": "python3"
  },
  "language_info": {
   "codemirror_mode": {
    "name": "ipython",
    "version": 3
   },
   "file_extension": ".py",
   "mimetype": "text/x-python",
   "name": "python",
   "nbconvert_exporter": "python",
   "pygments_lexer": "ipython3",
   "version": "3.8.3"
  }
 },
 "nbformat": 4,
 "nbformat_minor": 4
}
